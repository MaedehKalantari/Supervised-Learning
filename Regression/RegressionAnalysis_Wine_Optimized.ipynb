{
  "nbformat": 4,
  "nbformat_minor": 0,
  "metadata": {
    "colab": {
      "provenance": []
    },
    "kernelspec": {
      "name": "python3",
      "display_name": "Python 3"
    },
    "language_info": {
      "name": "python"
    }
  },
  "cells": [
    {
      "cell_type": "code",
      "execution_count": 1,
      "metadata": {
        "colab": {
          "base_uri": "https://localhost:8080/"
        },
        "id": "GE3scgLuHtEs",
        "outputId": "114ac2d6-6db0-4dcf-9e1e-5fdcd6203608"
      },
      "outputs": [
        {
          "output_type": "stream",
          "name": "stdout",
          "text": [
            "Collecting catboost\n",
            "  Downloading catboost-1.2.5-cp310-cp310-manylinux2014_x86_64.whl.metadata (1.2 kB)\n",
            "Requirement already satisfied: graphviz in /usr/local/lib/python3.10/dist-packages (from catboost) (0.20.3)\n",
            "Requirement already satisfied: matplotlib in /usr/local/lib/python3.10/dist-packages (from catboost) (3.7.1)\n",
            "Requirement already satisfied: numpy>=1.16.0 in /usr/local/lib/python3.10/dist-packages (from catboost) (1.26.4)\n",
            "Requirement already satisfied: pandas>=0.24 in /usr/local/lib/python3.10/dist-packages (from catboost) (2.1.4)\n",
            "Requirement already satisfied: scipy in /usr/local/lib/python3.10/dist-packages (from catboost) (1.13.1)\n",
            "Requirement already satisfied: plotly in /usr/local/lib/python3.10/dist-packages (from catboost) (5.15.0)\n",
            "Requirement already satisfied: six in /usr/local/lib/python3.10/dist-packages (from catboost) (1.16.0)\n",
            "Requirement already satisfied: python-dateutil>=2.8.2 in /usr/local/lib/python3.10/dist-packages (from pandas>=0.24->catboost) (2.8.2)\n",
            "Requirement already satisfied: pytz>=2020.1 in /usr/local/lib/python3.10/dist-packages (from pandas>=0.24->catboost) (2024.1)\n",
            "Requirement already satisfied: tzdata>=2022.1 in /usr/local/lib/python3.10/dist-packages (from pandas>=0.24->catboost) (2024.1)\n",
            "Requirement already satisfied: contourpy>=1.0.1 in /usr/local/lib/python3.10/dist-packages (from matplotlib->catboost) (1.3.0)\n",
            "Requirement already satisfied: cycler>=0.10 in /usr/local/lib/python3.10/dist-packages (from matplotlib->catboost) (0.12.1)\n",
            "Requirement already satisfied: fonttools>=4.22.0 in /usr/local/lib/python3.10/dist-packages (from matplotlib->catboost) (4.53.1)\n",
            "Requirement already satisfied: kiwisolver>=1.0.1 in /usr/local/lib/python3.10/dist-packages (from matplotlib->catboost) (1.4.5)\n",
            "Requirement already satisfied: packaging>=20.0 in /usr/local/lib/python3.10/dist-packages (from matplotlib->catboost) (24.1)\n",
            "Requirement already satisfied: pillow>=6.2.0 in /usr/local/lib/python3.10/dist-packages (from matplotlib->catboost) (9.4.0)\n",
            "Requirement already satisfied: pyparsing>=2.3.1 in /usr/local/lib/python3.10/dist-packages (from matplotlib->catboost) (3.1.4)\n",
            "Requirement already satisfied: tenacity>=6.2.0 in /usr/local/lib/python3.10/dist-packages (from plotly->catboost) (9.0.0)\n",
            "Downloading catboost-1.2.5-cp310-cp310-manylinux2014_x86_64.whl (98.2 MB)\n",
            "\u001b[2K   \u001b[90m━━━━━━━━━━━━━━━━━━━━━━━━━━━━━━━━━━━━━━━━\u001b[0m \u001b[32m98.2/98.2 MB\u001b[0m \u001b[31m8.7 MB/s\u001b[0m eta \u001b[36m0:00:00\u001b[0m\n",
            "\u001b[?25hInstalling collected packages: catboost\n",
            "Successfully installed catboost-1.2.5\n"
          ]
        }
      ],
      "source": [
        "!pip install catboost"
      ]
    },
    {
      "cell_type": "code",
      "source": [
        "import pandas as pd\n",
        "import numpy as np\n",
        "import matplotlib.pyplot as plt\n",
        "import seaborn as sns"
      ],
      "metadata": {
        "id": "PSvP1GV1Hzi_"
      },
      "execution_count": 2,
      "outputs": []
    },
    {
      "cell_type": "code",
      "source": [
        "from sklearn.datasets import load_wine\n",
        "from sklearn.preprocessing import StandardScaler, PolynomialFeatures\n",
        "from sklearn.model_selection import train_test_split, RandomizedSearchCV\n",
        "from sklearn.feature_selection import mutual_info_regression\n",
        "from sklearn.neighbors import KNeighborsRegressor\n",
        "from sklearn.tree import DecisionTreeRegressor\n",
        "from sklearn.ensemble import RandomForestRegressor, GradientBoostingRegressor\n",
        "from xgboost import XGBRegressor\n",
        "from catboost import CatBoostRegressor\n",
        "from sklearn.linear_model import LinearRegression, Ridge, Lasso\n",
        "from sklearn.metrics import r2_score, mean_squared_error\n",
        "from scipy.stats import randint\n"
      ],
      "metadata": {
        "id": "S33yxuIdH2D3"
      },
      "execution_count": 3,
      "outputs": []
    },
    {
      "cell_type": "code",
      "source": [
        "# Load dataset\n",
        "data = load_wine()\n",
        "df = pd.DataFrame(data.data, columns=data.feature_names)\n",
        "df['alcohol'] = data.target  # Assuming 'alcohol' is the target column"
      ],
      "metadata": {
        "id": "w0cMu7V1H8gK"
      },
      "execution_count": 4,
      "outputs": []
    },
    {
      "cell_type": "code",
      "source": [
        "# Features and target\n",
        "X = df.drop('alcohol', axis=1)\n",
        "y = df['alcohol']"
      ],
      "metadata": {
        "id": "BdIqy4upH_B2"
      },
      "execution_count": 5,
      "outputs": []
    },
    {
      "cell_type": "code",
      "source": [
        "# Check duplicates\n",
        "print(\"Duplicates in data: \", X.duplicated().sum())"
      ],
      "metadata": {
        "colab": {
          "base_uri": "https://localhost:8080/"
        },
        "id": "pxdSigjlIDmY",
        "outputId": "f6008a46-3604-4e1d-912a-96127cc35c72"
      },
      "execution_count": 6,
      "outputs": [
        {
          "output_type": "stream",
          "name": "stdout",
          "text": [
            "Duplicates in data:  0\n"
          ]
        }
      ]
    },
    {
      "cell_type": "code",
      "source": [
        "# Check null values\n",
        "print(\"Null values in data: \", X.isna().sum().sum())"
      ],
      "metadata": {
        "colab": {
          "base_uri": "https://localhost:8080/"
        },
        "id": "r7xrhi-DIIiS",
        "outputId": "fcaacf53-2b62-4b35-e380-f9ef67d2c55e"
      },
      "execution_count": 7,
      "outputs": [
        {
          "output_type": "stream",
          "name": "stdout",
          "text": [
            "Null values in data:  0\n"
          ]
        }
      ]
    },
    {
      "cell_type": "code",
      "source": [
        "# Scale features using StandardScaler\n",
        "scaler = StandardScaler()\n",
        "X_scaled = scaler.fit_transform(X)"
      ],
      "metadata": {
        "id": "WGFcVGGuIMER"
      },
      "execution_count": 8,
      "outputs": []
    },
    {
      "cell_type": "code",
      "source": [
        "# Compute the mutual information between each feature and the target\n",
        "mi = mutual_info_regression(X_scaled, y)"
      ],
      "metadata": {
        "id": "sLhM_PIXIRJx"
      },
      "execution_count": 9,
      "outputs": []
    },
    {
      "cell_type": "code",
      "source": [
        "# Create a DataFrame to display the mutual information scores\n",
        "mi_df = pd.DataFrame({\n",
        "    'Feature': df.columns[:-1],\n",
        "    'Mutual Information': mi\n",
        "})\n"
      ],
      "metadata": {
        "id": "4drQtrZcIVdx"
      },
      "execution_count": 10,
      "outputs": []
    },
    {
      "cell_type": "code",
      "source": [
        "# Sort features by mutual information score\n",
        "mi_df = mi_df.sort_values(by='Mutual Information', ascending=False)\n",
        "\n",
        "print(\"Mutual Information Scores:\")\n",
        "print(mi_df)"
      ],
      "metadata": {
        "colab": {
          "base_uri": "https://localhost:8080/"
        },
        "id": "sJZWW_3GIaYY",
        "outputId": "b6a272e5-5cee-4929-a8fb-9b4b006b429b"
      },
      "execution_count": 11,
      "outputs": [
        {
          "output_type": "stream",
          "name": "stdout",
          "text": [
            "Mutual Information Scores:\n",
            "                         Feature  Mutual Information\n",
            "5                  total_phenols            0.673105\n",
            "11  od280/od315_of_diluted_wines            0.564657\n",
            "8                proanthocyanins            0.551197\n",
            "10                           hue            0.509905\n",
            "9                color_intensity            0.448444\n",
            "4                      magnesium            0.396905\n",
            "7           nonflavanoid_phenols            0.314026\n",
            "0                        alcohol            0.285978\n",
            "2                            ash            0.259153\n",
            "6                     flavanoids            0.140946\n",
            "3              alcalinity_of_ash            0.136312\n",
            "1                     malic_acid            0.067721\n"
          ]
        }
      ]
    },
    {
      "cell_type": "code",
      "source": [
        "# Selecting the top N features based on mutual information\n",
        "N = 5  # Number of top features to select\n",
        "top_features = mi_df['Feature'].head(N).values\n",
        "\n",
        "print(f\"Top {N} features selected based on Mutual Information:\")\n",
        "print(top_features)"
      ],
      "metadata": {
        "colab": {
          "base_uri": "https://localhost:8080/"
        },
        "id": "nRd0rcF8IgN8",
        "outputId": "2bc63d82-bd52-4fed-febf-cf1b2da1ba6a"
      },
      "execution_count": 12,
      "outputs": [
        {
          "output_type": "stream",
          "name": "stdout",
          "text": [
            "Top 5 features selected based on Mutual Information:\n",
            "['total_phenols' 'od280/od315_of_diluted_wines' 'proanthocyanins' 'hue'\n",
            " 'color_intensity']\n"
          ]
        }
      ]
    },
    {
      "cell_type": "code",
      "source": [
        "# Filter the dataset to keep only the top N features\n",
        "X_selected = df[top_features]\n"
      ],
      "metadata": {
        "id": "ndDCttHLIoQI"
      },
      "execution_count": 13,
      "outputs": []
    },
    {
      "cell_type": "code",
      "source": [
        "# Train test split with selected features\n",
        "X_train, X_test, y_train, y_test = train_test_split(X_selected, y, shuffle=True, test_size=0.2, random_state=2024)"
      ],
      "metadata": {
        "id": "T3Tnse-EIsbI"
      },
      "execution_count": 14,
      "outputs": []
    },
    {
      "cell_type": "code",
      "source": [
        "from sklearn.model_selection import cross_val_score, KFold\n",
        "\n",
        "# Function to evaluate the model and check for overfitting\n",
        "def evaluate_model(model, X_train, y_train, X_test, y_test, cross_val=True):\n",
        "    model.fit(X_train, y_train)\n",
        "    y_pred_train = model.predict(X_train)\n",
        "    y_pred_test = model.predict(X_test)\n",
        "\n",
        "    train_r2 = r2_score(y_train, y_pred_train)\n",
        "    test_r2 = r2_score(y_test, y_pred_test)\n",
        "    train_rmse = np.sqrt(mean_squared_error(y_train, y_pred_train))\n",
        "    test_rmse = np.sqrt(mean_squared_error(y_test, y_pred_test))\n",
        "\n",
        "    print(f\"Train R2: {train_r2}, Test R2: {test_r2}\")\n",
        "    print(f\"Train RMSE: {train_rmse}, Test RMSE: {test_rmse}\")\n",
        "\n",
        "    if cross_val:\n",
        "        kf = KFold(n_splits=5, shuffle=True, random_state=42)\n",
        "        cv_scores = cross_val_score(model, X_train, y_train, cv=kf, scoring='r2')\n",
        "        print(f\"Cross-validation R2 scores: {cv_scores}\")\n",
        "        print(f\"Mean CV R2: {cv_scores.mean()}\")\n",
        "\n",
        "    # Check for overfitting\n",
        "    if (train_r2 - test_r2 > 0.15) and (train_r2 > 0.85):\n",
        "        print(\"Warning: Potential overfitting detected!\")\n",
        "    else:\n",
        "        print(\"No significant overfitting detected.\")"
      ],
      "metadata": {
        "id": "EBR8kmj9LB-r"
      },
      "execution_count": 15,
      "outputs": []
    },
    {
      "cell_type": "code",
      "source": [
        "# Polynomial features with higher degrees\n",
        "degrees = [1, 2, 3]\n",
        "for deg in degrees:\n",
        "    poly = PolynomialFeatures(degree=deg)\n",
        "    X_train_poly = poly.fit_transform(X_train)\n",
        "    X_test_poly = poly.transform(X_test)\n"
      ],
      "metadata": {
        "id": "2UQ1np9kIv-E"
      },
      "execution_count": 16,
      "outputs": []
    },
    {
      "cell_type": "code",
      "source": [
        "\n",
        "\n",
        "    # Try different linear models: LinearRegression, Ridge, Lasso\n",
        "    models = {\n",
        "        \"LinearRegression\": LinearRegression(),\n",
        "        \"Ridge\": Ridge(alpha=1.0),\n",
        "        \"Lasso\": Lasso(alpha=0.1)\n",
        "    }\n",
        "\n",
        "    for name, model in models.items():\n",
        "        model.fit(X_train_poly, y_train)\n",
        "        y_pred = model.predict(X_test_poly)\n",
        "        print(f'{name} with degree {deg}: R2 = {r2_score(y_test, y_pred)}, RMSE = {np.sqrt(mean_squared_error(y_test, y_pred))}')\n",
        "        evaluate_model(model, X_train_poly, y_train, X_test_poly, y_test)\n"
      ],
      "metadata": {
        "colab": {
          "base_uri": "https://localhost:8080/"
        },
        "id": "KlcTs_XJI2np",
        "outputId": "91861ef5-e2ee-4e6a-de96-c8160d44b3ef"
      },
      "execution_count": 18,
      "outputs": [
        {
          "output_type": "stream",
          "name": "stdout",
          "text": [
            "LinearRegression with degree 3: R2 = 0.6177879836153521, RMSE = 0.49385837422145656\n",
            "Train R2: 0.7489386784404441, Test R2: 0.6177879836153521\n",
            "Train RMSE: 0.38304335074865575, Test RMSE: 0.49385837422145656\n",
            "Cross-validation R2 scores: [ 0.1650577  -0.97539701 -4.4004149  -0.36367273  0.5411469 ]\n",
            "Mean CV R2: -1.0066560078236406\n",
            "No significant overfitting detected.\n",
            "Ridge with degree 3: R2 = 0.813674389635876, RMSE = 0.34481530188783055\n",
            "Train R2: 0.8842781502633907, Test R2: 0.813674389635876\n",
            "Train RMSE: 0.26005529805948957, Test RMSE: 0.34481530188783055\n",
            "Cross-validation R2 scores: [0.89097017 0.78884685 0.79307042 0.8713419  0.73535526]\n",
            "Mean CV R2: 0.8159169185148629\n",
            "No significant overfitting detected.\n",
            "Lasso with degree 3: R2 = 0.7899633565850086, RMSE = 0.36609836441327975\n",
            "Train R2: 0.7970259541124989, Test R2: 0.7899633565850086\n",
            "Train RMSE: 0.3444120016729461, Test RMSE: 0.36609836441327975\n",
            "Cross-validation R2 scores: [0.83833992 0.69526431 0.74360094 0.79311391 0.5465378 ]\n",
            "Mean CV R2: 0.7233713768400527\n",
            "No significant overfitting detected.\n"
          ]
        },
        {
          "output_type": "stream",
          "name": "stderr",
          "text": [
            "/usr/local/lib/python3.10/dist-packages/sklearn/linear_model/_coordinate_descent.py:628: ConvergenceWarning: Objective did not converge. You might want to increase the number of iterations, check the scale of the features or consider increasing regularisation. Duality gap: 1.038e-02, tolerance: 6.828e-03\n",
            "  model = cd_fast.enet_coordinate_descent(\n",
            "/usr/local/lib/python3.10/dist-packages/sklearn/linear_model/_coordinate_descent.py:628: ConvergenceWarning: Objective did not converge. You might want to increase the number of iterations, check the scale of the features or consider increasing regularisation. Duality gap: 1.472e-02, tolerance: 6.600e-03\n",
            "  model = cd_fast.enet_coordinate_descent(\n"
          ]
        }
      ]
    },
    {
      "cell_type": "code",
      "source": [
        "# KNN regression with optimized hyperparameters using RandomizedSearchCV\n",
        "knn_params = {\n",
        "    'n_neighbors': randint(1, 30),\n",
        "    'weights': ['uniform', 'distance'],\n",
        "    'metric': ['euclidean', 'manhattan']\n",
        "}\n",
        "knn = KNeighborsRegressor()\n",
        "random_search_knn = RandomizedSearchCV(knn, param_distributions=knn_params, n_iter=100, cv=5, random_state=42)\n",
        "random_search_knn.fit(X_train, y_train)\n",
        "\n",
        "y_pred_knn = random_search_knn.best_estimator_.predict(X_test)\n",
        "print(f'Optimized KNN: R2 = {r2_score(y_test, y_pred_knn)}, RMSE = {np.sqrt(mean_squared_error(y_test, y_pred_knn))}')\n",
        "evaluate_model(random_search_knn.best_estimator_, X_train, y_train, X_test, y_test)"
      ],
      "metadata": {
        "colab": {
          "base_uri": "https://localhost:8080/"
        },
        "id": "0XBVMlYcJODD",
        "outputId": "1ba25918-9a19-4204-d4b8-d5610688dfa6"
      },
      "execution_count": 19,
      "outputs": [
        {
          "output_type": "stream",
          "name": "stdout",
          "text": [
            "Optimized KNN: R2 = 0.9564049470113218, RMSE = 0.16678955844662027\n",
            "Train R2: 1.0, Test R2: 0.9564049470113218\n",
            "Train RMSE: 0.0, Test RMSE: 0.16678955844662027\n",
            "Cross-validation R2 scores: [0.89398749 0.87125119 0.81996278 0.97988192 0.70796646]\n",
            "Mean CV R2: 0.854609970014119\n",
            "No significant overfitting detected.\n"
          ]
        }
      ]
    },
    {
      "cell_type": "code",
      "source": [
        "# Decision Tree with hyperparameter tuning\n",
        "dt_params = {\n",
        "    'max_depth': randint(1, 20),\n",
        "    'min_samples_split': randint(2, 10),\n",
        "    'min_samples_leaf': randint(1, 10)\n",
        "}\n",
        "dt = DecisionTreeRegressor(random_state=42)\n",
        "random_search_dt = RandomizedSearchCV(dt, param_distributions=dt_params, n_iter=100, cv=5, random_state=42)\n",
        "random_search_dt.fit(X_train, y_train)\n",
        "\n",
        "y_pred_dt = random_search_dt.best_estimator_.predict(X_test)\n",
        "print(f'Optimized Decision Tree: R2 = {r2_score(y_test, y_pred_dt)}, RMSE = {np.sqrt(mean_squared_error(y_test, y_pred_dt))}')\n",
        "evaluate_model(random_search_dt.best_estimator_, X_train, y_train, X_test, y_test)"
      ],
      "metadata": {
        "colab": {
          "base_uri": "https://localhost:8080/"
        },
        "id": "PoPPFBKEJYqf",
        "outputId": "c32ffd34-b675-4564-e787-26a2f8e2009c"
      },
      "execution_count": 20,
      "outputs": [
        {
          "output_type": "stream",
          "name": "stdout",
          "text": [
            "Optimized Decision Tree: R2 = 0.7610014106497383, RMSE = 0.39052417428914427\n",
            "Train R2: 0.8946551554821163, Test R2: 0.7610014106497383\n",
            "Train RMSE: 0.2481216529881026, Test RMSE: 0.39052417428914427\n",
            "Cross-validation R2 scores: [0.80883139 0.58989229 0.84313778 0.94677573 0.6304127 ]\n",
            "Mean CV R2: 0.7638099772680881\n",
            "No significant overfitting detected.\n"
          ]
        }
      ]
    },
    {
      "cell_type": "code",
      "source": [
        "# Random Forest with hyperparameter tuning\n",
        "rf_params = {\n",
        "    'n_estimators': [200, 500, 1000],\n",
        "    'max_depth': [10, 20, None],\n",
        "    'min_samples_split': randint(2, 10),\n",
        "    'min_samples_leaf': randint(1, 10)\n",
        "}\n",
        "rfr = RandomForestRegressor(random_state=42)\n",
        "random_search_rf = RandomizedSearchCV(rfr, param_distributions=rf_params, n_iter=100, cv=5, random_state=42)\n",
        "random_search_rf.fit(X_train, y_train)\n",
        "\n",
        "y_pred_rf = random_search_rf.best_estimator_.predict(X_test)\n",
        "print(f'Optimized Random Forest: R2 = {r2_score(y_test, y_pred_rf)}, RMSE = {np.sqrt(mean_squared_error(y_test, y_pred_rf))}')\n",
        "evaluate_model(random_search_rf.best_estimator_, X_train, y_train, X_test, y_test)\n"
      ],
      "metadata": {
        "colab": {
          "base_uri": "https://localhost:8080/"
        },
        "id": "npZAFsoyJfUz",
        "outputId": "92ec0283-cd6e-46b6-a667-ad180bbd0de8"
      },
      "execution_count": 21,
      "outputs": [
        {
          "output_type": "stream",
          "name": "stdout",
          "text": [
            "Optimized Random Forest: R2 = 0.8757485030229746, RMSE = 0.28157952300864814\n",
            "Train R2: 0.9789257491513917, Test R2: 0.8757485030229746\n",
            "Train RMSE: 0.11097728482207013, Test RMSE: 0.28157952300864814\n",
            "Cross-validation R2 scores: [0.82563337 0.75019957 0.84698426 0.95164602 0.71600354]\n",
            "Mean CV R2: 0.818093351815906\n",
            "No significant overfitting detected.\n"
          ]
        }
      ]
    },
    {
      "cell_type": "code",
      "source": [
        "# XGBoost with tuned hyperparameters\n",
        "xgb_params = {\n",
        "    'n_estimators': [500, 1000],\n",
        "    'learning_rate': [0.01, 0.1, 0.3],\n",
        "    'max_depth': [3, 5, 10],\n",
        "    'subsample': [0.7, 0.8, 1.0]\n",
        "}\n",
        "xgbr = XGBRegressor(random_state=42)\n",
        "random_search_xgb = RandomizedSearchCV(xgbr, param_distributions=xgb_params, n_iter=100, cv=5, random_state=42)\n",
        "random_search_xgb.fit(X_train, y_train)\n",
        "\n",
        "y_pred_xgb = random_search_xgb.best_estimator_.predict(X_test)\n",
        "print(f'Optimized XGBoost: R2 = {r2_score(y_test, y_pred_xgb)}, RMSE = {np.sqrt(mean_squared_error(y_test, y_pred_xgb))}')\n",
        "evaluate_model(random_search_xgb.best_estimator_, X_train, y_train, X_test, y_test)\n"
      ],
      "metadata": {
        "colab": {
          "base_uri": "https://localhost:8080/"
        },
        "id": "v06bkyK_Jro0",
        "outputId": "77f15c92-f09f-4448-c5e5-cbb7e1b45cc6"
      },
      "execution_count": 22,
      "outputs": [
        {
          "output_type": "stream",
          "name": "stderr",
          "text": [
            "/usr/local/lib/python3.10/dist-packages/sklearn/model_selection/_search.py:307: UserWarning: The total space of parameters 54 is smaller than n_iter=100. Running 54 iterations. For exhaustive searches, use GridSearchCV.\n",
            "  warnings.warn(\n"
          ]
        },
        {
          "output_type": "stream",
          "name": "stdout",
          "text": [
            "Optimized XGBoost: R2 = 0.9206273120996276, RMSE = 0.22505351368695775\n",
            "Train R2: 0.9748198333224636, Test R2: 0.9206273120996276\n",
            "Train RMSE: 0.12130740789940261, Test RMSE: 0.22505351368695775\n",
            "Cross-validation R2 scores: [0.73934265 0.78638502 0.8193478  0.97825013 0.71533489]\n",
            "Mean CV R2: 0.8077320997960182\n",
            "No significant overfitting detected.\n"
          ]
        }
      ]
    },
    {
      "cell_type": "code",
      "source": [
        "cat_params = {\n",
        "    'iterations': [100, 500],\n",
        "    'learning_rate': [0.1],\n",
        "    'depth': [6, 10]\n",
        "}\n",
        "\n",
        "cbr = CatBoostRegressor(random_state=42, verbose=0, early_stopping_rounds=10)  # اضافه کردن early stopping\n",
        "\n",
        "random_search_cat = RandomizedSearchCV(cbr, param_distributions=cat_params, n_iter=10, cv=3, random_state=42)\n",
        "random_search_cat.fit(X_train, y_train)\n",
        "\n",
        "y_pred_cat = random_search_cat.best_estimator_.predict(X_test)\n",
        "print(f'Optimized CatBoost: R2 = {r2_score(y_test, y_pred_cat)}, RMSE = {np.sqrt(mean_squared_error(y_test, y_pred_cat))}')\n",
        "evaluate_model(random_search_cat.best_estimator_, X_train, y_train, X_test, y_test)\n"
      ],
      "metadata": {
        "colab": {
          "base_uri": "https://localhost:8080/"
        },
        "id": "yzNURxNrJ0aQ",
        "outputId": "24351f53-7d16-4561-c66e-cddfe3be20aa"
      },
      "execution_count": 23,
      "outputs": [
        {
          "output_type": "stream",
          "name": "stderr",
          "text": [
            "/usr/local/lib/python3.10/dist-packages/sklearn/model_selection/_search.py:307: UserWarning: The total space of parameters 4 is smaller than n_iter=10. Running 4 iterations. For exhaustive searches, use GridSearchCV.\n",
            "  warnings.warn(\n"
          ]
        },
        {
          "output_type": "stream",
          "name": "stdout",
          "text": [
            "Optimized CatBoost: R2 = 0.9352633120745363, RMSE = 0.20324763091105302\n",
            "Train R2: 0.9848784811716058, Test R2: 0.9352633120745363\n",
            "Train RMSE: 0.09400603380463451, Test RMSE: 0.20324763091105302\n",
            "Cross-validation R2 scores: [0.80282203 0.84742448 0.82268006 0.94847594 0.79604415]\n",
            "Mean CV R2: 0.843489334152518\n",
            "No significant overfitting detected.\n"
          ]
        }
      ]
    },
    {
      "cell_type": "code",
      "source": [
        "# Additional ensemble method: Gradient Boosting Regressor\n",
        "gbr = GradientBoostingRegressor(n_estimators=500, learning_rate=0.1, max_depth=3, random_state=42)\n",
        "gbr.fit(X_train, y_train)\n",
        "\n",
        "y_pred_gbr = gbr.predict(X_test)\n",
        "print(f'Gradient Boosting: R2 = {r2_score(y_test, y_pred_gbr)}, RMSE = {np.sqrt(mean_squared_error(y_test, y_pred_gbr))}')\n",
        "evaluate_model(gbr, X_train, y_train, X_test, y_test)"
      ],
      "metadata": {
        "id": "U43M01xaJ8lT",
        "colab": {
          "base_uri": "https://localhost:8080/"
        },
        "outputId": "5adc6e6a-b674-4467-bc35-d9e1edd4fe73"
      },
      "execution_count": 24,
      "outputs": [
        {
          "output_type": "stream",
          "name": "stdout",
          "text": [
            "Gradient Boosting: R2 = 0.9366818040738116, RMSE = 0.20100854511456062\n",
            "Train R2: 0.9999933813484752, Test R2: 0.9366818040738116\n",
            "Train RMSE: 0.001966721115070507, Test RMSE: 0.20100854511456062\n",
            "Cross-validation R2 scores: [0.77270596 0.76467832 0.80841835 0.96319398 0.69646104]\n",
            "Mean CV R2: 0.801091528383369\n",
            "No significant overfitting detected.\n"
          ]
        }
      ]
    },
    {
      "cell_type": "code",
      "source": [
        "# List to store R2 scores\n",
        "r2_scores = {}\n",
        "\n",
        "# Existing models evaluations\n",
        "for name, model in models.items():\n",
        "    y_pred = model.predict(X_test_poly)\n",
        "    r2 = r2_score(y_test, y_pred)\n",
        "    r2_scores[f'{name} (degree {deg})'] = r2\n",
        "\n",
        "r2_scores['Optimized KNN'] = r2_score(y_test, y_pred_knn)\n",
        "r2_scores['Optimized Decision Tree'] = r2_score(y_test, y_pred_dt)\n",
        "r2_scores['Optimized Random Forest'] = r2_score(y_test, y_pred_rf)\n",
        "r2_scores['Optimized XGBoost'] = r2_score(y_test, y_pred_xgb)\n",
        "r2_scores['Optimized CatBoost'] = r2_score(y_test, y_pred_cat)\n",
        "r2_scores['Gradient Boosting'] = r2_score(y_test, y_pred_gbr)\n",
        "\n",
        "# Print R2 scores for all models\n",
        "print(\"\\nR2 Scores for all models:\")\n",
        "for model_name, r2 in r2_scores.items():\n",
        "    print(f'{model_name}: R2 = {r2}')\n",
        "\n",
        "# Identify the model with the best R2 score\n",
        "best_model = max(r2_scores, key=r2_scores.get)\n",
        "best_r2 = r2_scores[best_model]\n",
        "\n",
        "print(f'\\nThe model with the best R2 score is {best_model} with R2 = {best_r2}')\n"
      ],
      "metadata": {
        "colab": {
          "base_uri": "https://localhost:8080/"
        },
        "id": "0CXiJ0-69c2_",
        "outputId": "036c7b64-fc09-47b0-ce0e-596f3fa3badc"
      },
      "execution_count": 25,
      "outputs": [
        {
          "output_type": "stream",
          "name": "stdout",
          "text": [
            "\n",
            "R2 Scores for all models:\n",
            "LinearRegression (degree 3): R2 = 0.6177879836153521\n",
            "Ridge (degree 3): R2 = 0.813674389635876\n",
            "Lasso (degree 3): R2 = 0.7899633565850086\n",
            "Optimized KNN: R2 = 0.9564049470113218\n",
            "Optimized Decision Tree: R2 = 0.7610014106497383\n",
            "Optimized Random Forest: R2 = 0.8757485030229746\n",
            "Optimized XGBoost: R2 = 0.9206273120996276\n",
            "Optimized CatBoost: R2 = 0.9352633120745363\n",
            "Gradient Boosting: R2 = 0.9366818040738116\n",
            "\n",
            "The model with the best R2 score is Optimized KNN with R2 = 0.9564049470113218\n"
          ]
        }
      ]
    }
  ]
}