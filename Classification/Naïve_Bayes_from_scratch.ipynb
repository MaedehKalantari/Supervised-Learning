{
  "cells": [
    {
      "cell_type": "markdown",
      "source": [
        "#NB from the scratch"
      ],
      "metadata": {
        "id": "hp93MA8jrQp3"
      }
    },
    {
      "cell_type": "markdown",
      "source": [
        "## Some important concepts in Python"
      ],
      "metadata": {
        "id": "exVpVOnHoCqe"
      }
    },
    {
      "cell_type": "code",
      "source": [
        "# prerequisite (enumerate, lambda, list comprehention)\n",
        "# enumerate\n",
        "for i in range(10):\n",
        "  print(i)\n",
        "\n",
        "mylist = [1, 2, 4, 8]\n",
        "for i in mylist:\n",
        "  print(i)\n",
        "\n",
        "for i in range(len(mylist)):\n",
        "  print(i)\n",
        "\n",
        "for i in range(len(mylist)):\n",
        "  print(i, \": \", mylist[i])\n",
        "\n",
        "#enumerate is an alternative\n",
        "for idx, val in enumerate(mylist): # enumerate = range + len + slicing\n",
        "  print(idx, \": \", val)"
      ],
      "metadata": {
        "id": "VkTKscDJkJRR"
      },
      "execution_count": null,
      "outputs": []
    },
    {
      "cell_type": "code",
      "source": [
        "# 2. lambda function\n",
        "def square_if_even(x):\n",
        "  if x % 2 == 0:\n",
        "    return x**2\n",
        "  else:\n",
        "    return x\n",
        "\n",
        "square_if_even(5)\n",
        "square_if_even(4)"
      ],
      "metadata": {
        "colab": {
          "base_uri": "https://localhost:8080/"
        },
        "id": "or6w3Ysdl1LT",
        "outputId": "1e00dd4e-6909-4b9a-a042-fba3022d7ec5"
      },
      "execution_count": null,
      "outputs": [
        {
          "output_type": "execute_result",
          "data": {
            "text/plain": [
              "16"
            ]
          },
          "metadata": {},
          "execution_count": 11
        }
      ]
    },
    {
      "cell_type": "code",
      "source": [
        "square = lambda x, y: (x+y)**2\n",
        "square(5, 2)"
      ],
      "metadata": {
        "colab": {
          "base_uri": "https://localhost:8080/"
        },
        "id": "WbRb9QadmaSr",
        "outputId": "50798baa-f80a-4a3e-ad18-dd6f895a77e6"
      },
      "execution_count": null,
      "outputs": [
        {
          "output_type": "execute_result",
          "data": {
            "text/plain": [
              "49"
            ]
          },
          "metadata": {},
          "execution_count": 14
        }
      ]
    },
    {
      "cell_type": "code",
      "source": [
        "even_square = lambda x: x**2 if x%2==0 else x\n",
        "\n",
        "print(even_square(5))\n",
        "print(even_square(4))"
      ],
      "metadata": {
        "colab": {
          "base_uri": "https://localhost:8080/"
        },
        "id": "u8X5fJd8mmdx",
        "outputId": "c8e83c0c-c6f2-4407-891c-55ef0ef9d4fc"
      },
      "execution_count": null,
      "outputs": [
        {
          "output_type": "stream",
          "name": "stdout",
          "text": [
            "5\n",
            "16\n"
          ]
        }
      ]
    },
    {
      "cell_type": "code",
      "source": [
        "# 3. list comprehention\n",
        "mystring = []\n",
        "for i in range(10):\n",
        "  mystring.append(i)\n",
        "\n",
        "\n",
        "print(mystring)"
      ],
      "metadata": {
        "colab": {
          "base_uri": "https://localhost:8080/"
        },
        "id": "aOZPX3i8nYZa",
        "outputId": "03788190-6621-4d46-8faf-925a5cff4177"
      },
      "execution_count": null,
      "outputs": [
        {
          "output_type": "stream",
          "name": "stdout",
          "text": [
            "[0, 1, 2, 3, 4, 5, 6, 7, 8, 9]\n"
          ]
        }
      ]
    },
    {
      "cell_type": "code",
      "source": [
        "mylistcom = [i for i in range(10)]\n",
        "print(mylistcom)"
      ],
      "metadata": {
        "colab": {
          "base_uri": "https://localhost:8080/"
        },
        "id": "FNytnqaYny3t",
        "outputId": "83594d60-e72e-48cd-e6b7-edbc6a9b1232"
      },
      "execution_count": null,
      "outputs": [
        {
          "output_type": "stream",
          "name": "stdout",
          "text": [
            "[0, 1, 2, 3, 4, 5, 6, 7, 8, 9]\n"
          ]
        }
      ]
    },
    {
      "cell_type": "markdown",
      "source": [
        "## Naive Bayes from scratch"
      ],
      "metadata": {
        "id": "Jv4Q9YXgoHiv"
      }
    },
    {
      "cell_type": "code",
      "source": [
        "import numpy as np\n",
        "\n",
        "# camel case: guassianNiaveBayes\n",
        "# capitalize: GuassianNaiveBayes ---> class\n",
        "# underline: guassian_naive_bayes ---> function\n",
        "\n",
        "class GaussianNaiveBayes:\n",
        "  # fit\n",
        "  def fit(self, X, y):\n",
        "    n_smaple, n_feature = X.shape\n",
        "    self._classes = np.unique(y)\n",
        "    n_classes = len(self._classes)\n",
        "    self._mean = np.zeros((n_classes, n_feature), dtype=np.float32)\n",
        "    self._var = np.zeros((n_classes, n_feature), dtype=np.float32)\n",
        "    self._prior = np.zeros(n_classes, dtype=np.float32)\n",
        "\n",
        "  # calculating mean, variance, and prior\n",
        "    for i, c in enumerate(self._classes):\n",
        "      X_for_class_c = X[y==c]\n",
        "      self._mean[i, :] = X_for_class_c.mean(axis=0)\n",
        "      self._var[i, :] = X_for_class_c.var(axis=0)\n",
        "      self._prior[i] = X_for_class_c.shape[0] / float(n_smaple)\n",
        "\n",
        "  # calculating likelihood\n",
        "  def likelihood(self, class_idx, x):\n",
        "    mean = self._mean[class_idx]\n",
        "    var = self._var[class_idx]\n",
        "    num = np.exp(-(x-mean)**2 / 2*var) # numerator\n",
        "    denom = np.sqrt(2 * np.pi * var) # denominator\n",
        "    return num / denom\n",
        "\n",
        "  # prediction method\n",
        "  def predict(self, X):\n",
        "    y_pred = [self._classify_sample(x) for x in X]\n",
        "    return np.array(y_pred)\n",
        "\n",
        "  # classification pahse\n",
        "  def _classify_sample(self, x):\n",
        "    posteriors = []\n",
        "\n",
        "    for i, c in enumerate(self._classes):\n",
        "      pri = np.log(self._prior[i])\n",
        "      post = np.sum(np.log(self.likelihood(i, x)))\n",
        "      posterior = pri + post\n",
        "      posteriors.append(posterior)\n",
        "\n",
        "    return self._classes[np.argmax(posteriors)]"
      ],
      "metadata": {
        "id": "S-x6vttpoMW8"
      },
      "execution_count": null,
      "outputs": []
    },
    {
      "cell_type": "code",
      "source": [
        "# imports\n",
        "from sklearn.datasets import make_classification\n",
        "from sklearn.model_selection import train_test_split\n",
        "from sklearn.metrics import accuracy_score\n",
        "from sklearn.naive_bayes import GaussianNB\n",
        "import time"
      ],
      "metadata": {
        "id": "VLZTADDGbmxl"
      },
      "execution_count": null,
      "outputs": []
    },
    {
      "cell_type": "code",
      "source": [
        "import random\n",
        "# load (synthesize) data\n",
        "X, y = make_classification(n_samples=100000, n_features=20, n_classes=2, random_state=42)\n",
        "X_train, X_test, y_train, y_test = train_test_split(X, y, random_state=42, test_size=0.25)"
      ],
      "metadata": {
        "id": "bJPtwoUtb_sq"
      },
      "execution_count": null,
      "outputs": []
    },
    {
      "cell_type": "code",
      "source": [
        "start_time = time.perf_counter()\n",
        "gnb = GaussianNaiveBayes()\n",
        "#train phase\n",
        "gnb.fit(X_train, y_train)\n",
        "y_pred = gnb.predict(X_test)\n",
        "\n",
        "end_time = time.perf_counter()\n",
        "print(f'duration of the manual model was: {end_time-start_time}')\n",
        "print(f'acc for manual model was: {accuracy_score(y_test, y_pred)}')"
      ],
      "metadata": {
        "colab": {
          "base_uri": "https://localhost:8080/"
        },
        "id": "oEn73EZdaPSl",
        "outputId": "d4859da2-a52f-4c14-96ec-2272ee7818fd"
      },
      "execution_count": null,
      "outputs": [
        {
          "output_type": "stream",
          "name": "stdout",
          "text": [
            "duration of the manual model was: 1.559659996999926\n",
            "acc for manual model was: 0.8572\n"
          ]
        }
      ]
    },
    {
      "cell_type": "code",
      "source": [
        "start_time = time.perf_counter()\n",
        "sk_gnb = GaussianNB()\n",
        "#train phase\n",
        "sk_gnb.fit(X_train, y_train)\n",
        "y_pred = sk_gnb.predict(X_test)\n",
        "accuracy_score(y_test, y_pred)\n",
        "\n",
        "end_time = time.perf_counter()\n",
        "print(f'duration of the manual model was: {end_time-start_time}')\n",
        "print(f'acc for manual model was: {accuracy_score(y_test, y_pred)}')"
      ],
      "metadata": {
        "colab": {
          "base_uri": "https://localhost:8080/"
        },
        "id": "caH2PhbndEMD",
        "outputId": "b798af94-5f25-4c55-90c8-24f6cc88e965"
      },
      "execution_count": null,
      "outputs": [
        {
          "output_type": "stream",
          "name": "stdout",
          "text": [
            "duration of the manual model was: 0.052607327999794506\n",
            "acc for manual model was: 0.85908\n"
          ]
        }
      ]
    }
  ],
  "metadata": {
    "colab": {
      "provenance": []
    },
    "kernelspec": {
      "display_name": "Python 3",
      "name": "python3"
    }
  },
  "nbformat": 4,
  "nbformat_minor": 0
}